{
 "cells": [
  {
   "cell_type": "markdown",
   "metadata": {},
   "source": [
    "## Asset-Liability Management\n",
    "#### salimt"
   ]
  },
  {
   "cell_type": "code",
   "execution_count": 1,
   "metadata": {},
   "outputs": [],
   "source": [
    "import pandas as pd\n",
    "import numpy as np\n",
    "import scipy\n",
    "import matplotlib\n",
    "import edhec_risk_kit_129 as erk"
   ]
  },
  {
   "cell_type": "markdown",
   "metadata": {},
   "source": [
    "- B1 is a 15 Year Bond with a Face Value of $1000 that pays a 5 percent coupon semi-annually (2 times a year)\n",
    "\n",
    "- B2 is a 5 Year Bond with a Face value of $1000 that pays a 6 percent coupon quarterly (4 times a year)\n",
    "\n",
    "- B3 is a 10 Year Zero-Coupon Bond with a Face Value of $1000"
   ]
  },
  {
   "cell_type": "code",
   "execution_count": 2,
   "metadata": {},
   "outputs": [
    {
     "data": {
      "text/plain": [
       "0    1000.0\n",
       "dtype: float64"
      ]
     },
     "execution_count": 2,
     "metadata": {},
     "output_type": "execute_result"
    }
   ],
   "source": [
    "b1Price = erk.bond_price(15, 1000, .05, 2, .05)\n",
    "b1Price"
   ]
  },
  {
   "cell_type": "code",
   "execution_count": 3,
   "metadata": {},
   "outputs": [
    {
     "data": {
      "text/plain": [
       "0    1043.99829\n",
       "dtype: float64"
      ]
     },
     "execution_count": 3,
     "metadata": {},
     "output_type": "execute_result"
    }
   ],
   "source": [
    "b2Price = erk.bond_price(5, 1000, .06, 4, .05)\n",
    "b2Price"
   ]
  },
  {
   "cell_type": "code",
   "execution_count": 4,
   "metadata": {},
   "outputs": [
    {
     "data": {
      "text/plain": [
       "0    613.913254\n",
       "dtype: float64"
      ]
     },
     "execution_count": 4,
     "metadata": {},
     "output_type": "execute_result"
    }
   ],
   "source": [
    "b3Price = erk.bond_price(10, 1000, .00, 1, .05)\n",
    "b3Price"
   ]
  },
  {
   "cell_type": "markdown",
   "metadata": {},
   "source": [
    "**Macaulay Duration**"
   ]
  },
  {
   "cell_type": "code",
   "execution_count": 5,
   "metadata": {},
   "outputs": [],
   "source": [
    "b1Flow = erk.bond_cash_flows(15, 1000, 0.05, 2)\n",
    "b2Flow = erk.bond_cash_flows(5, 1000, .06, 4)\n",
    "b3Flow = erk.bond_cash_flows(10, 1000, 0.00, 1)"
   ]
  },
  {
   "cell_type": "code",
   "execution_count": 6,
   "metadata": {},
   "outputs": [
    {
     "data": {
      "text/plain": [
       "10.72677495379012"
      ]
     },
     "execution_count": 6,
     "metadata": {},
     "output_type": "execute_result"
    }
   ],
   "source": [
    "b1Dur = erk.macaulay_duration(b1Flow, .05/2)/2\n",
    "b1Dur"
   ]
  },
  {
   "cell_type": "code",
   "execution_count": 7,
   "metadata": {},
   "outputs": [
    {
     "data": {
      "text/plain": [
       "4.373363222636413"
      ]
     },
     "execution_count": 7,
     "metadata": {},
     "output_type": "execute_result"
    }
   ],
   "source": [
    "b2Dur = erk.macaulay_duration(b2Flow, .05/4)/4\n",
    "b2Dur"
   ]
  },
  {
   "cell_type": "code",
   "execution_count": 8,
   "metadata": {},
   "outputs": [
    {
     "data": {
      "text/plain": [
       "10.0"
      ]
     },
     "execution_count": 8,
     "metadata": {},
     "output_type": "execute_result"
    }
   ],
   "source": [
    "b3Dur = erk.macaulay_duration(b3Flow, .05/1)/1\n",
    "b3Dur"
   ]
  },
  {
   "cell_type": "markdown",
   "metadata": {},
   "source": [
    "**Duration of the liabilities**"
   ]
  },
  {
   "cell_type": "code",
   "execution_count": 9,
   "metadata": {},
   "outputs": [
    {
     "data": {
      "text/plain": [
       "6.750917852744651"
      ]
     },
     "execution_count": 9,
     "metadata": {},
     "output_type": "execute_result"
    }
   ],
   "source": [
    "liabilities = pd.Series(data = [100000, 200000, 300000], index=[3, 5, 10])\n",
    "erk.macaulay_duration(liabilities, .05)"
   ]
  },
  {
   "cell_type": "markdown",
   "metadata": {},
   "source": [
    "**Duration Matched Portfolio of B1 and B2 to match these liabilities.**"
   ]
  },
  {
   "cell_type": "markdown",
   "metadata": {},
   "source": [
    "$$ w_s = \\frac{d_l -d_t}{d_l - d_s} $$"
   ]
  },
  {
   "cell_type": "code",
   "execution_count": 10,
   "metadata": {},
   "outputs": [],
   "source": [
    "def match_durations(cf_t, cf_s, ys, cf_l, yl, discount_rate):\n",
    "    \"\"\"\n",
    "    Returns the weight W in cf_s that, along with (1-W) in cf_l will have an effective\n",
    "    duration that matches cf_t\n",
    "    \"\"\"\n",
    "    d_t = erk.macaulay_duration(cf_t, discount_rate)\n",
    "    d_s = erk.macaulay_duration(cf_s, discount_rate/ys)/ys\n",
    "    d_l = erk.macaulay_duration(cf_l, discount_rate/yl)/yl\n",
    "    return (d_l - d_t)/(d_l - d_s)"
   ]
  },
  {
   "cell_type": "markdown",
   "metadata": {},
   "source": [
    "**Duration Matched Portfolio of B1 and B2 to match these liabilities**"
   ]
  },
  {
   "cell_type": "code",
   "execution_count": 11,
   "metadata": {},
   "outputs": [],
   "source": [
    "liabs = pd.Series(data=[100000, 200000, 300000], index=[3, 5, 10])"
   ]
  },
  {
   "cell_type": "markdown",
   "metadata": {},
   "source": [
    "**weight of B2 in the portfolio**"
   ]
  },
  {
   "cell_type": "code",
   "execution_count": 12,
   "metadata": {},
   "outputs": [
    {
     "data": {
      "text/plain": [
       "0.6257830075060314"
      ]
     },
     "execution_count": 12,
     "metadata": {},
     "output_type": "execute_result"
    }
   ],
   "source": [
    "ws21 = match_durations(liabs, b2Flow, 4, b1Flow, 2, 0.05)\n",
    "ws21"
   ]
  },
  {
   "cell_type": "markdown",
   "metadata": {},
   "source": [
    "**Duration Matched Portfolio of B2 and B3 to match the liabilities**"
   ]
  },
  {
   "cell_type": "markdown",
   "metadata": {},
   "source": [
    "**weight of B2 in this portfolio**"
   ]
  },
  {
   "cell_type": "code",
   "execution_count": 13,
   "metadata": {},
   "outputs": [
    {
     "data": {
      "text/plain": [
       "0.5774465770256697"
      ]
     },
     "execution_count": 13,
     "metadata": {},
     "output_type": "execute_result"
    }
   ],
   "source": [
    "ws23 = match_durations(liabs, b2Flow, 4, b3Flow, 1, 0.05)\n",
    "ws23"
   ]
  }
 ],
 "metadata": {
  "kernelspec": {
   "display_name": "Python 3",
   "language": "python",
   "name": "python3"
  },
  "language_info": {
   "codemirror_mode": {
    "name": "ipython",
    "version": 3
   },
   "file_extension": ".py",
   "mimetype": "text/x-python",
   "name": "python",
   "nbconvert_exporter": "python",
   "pygments_lexer": "ipython3",
   "version": "3.8.5"
  }
 },
 "nbformat": 4,
 "nbformat_minor": 1
}
