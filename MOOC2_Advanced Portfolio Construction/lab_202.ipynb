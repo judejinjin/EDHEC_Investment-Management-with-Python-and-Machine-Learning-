{
 "cells": [
  {
   "cell_type": "markdown",
   "metadata": {},
   "source": [
    "# Sharpe Style Analysis\n",
    "\n",
    "Sharpe Style Analysis is an elegant and simple decomposition exercise similar to what we did in the previous lab session, with the added constraint that the coefficients are all positive and add to 1.\n",
    "\n",
    "Therefore, the coefficients of performing style analysis on the observed return of a manager can be interpreted as weights in a portfolio of building blocks which together, _mimic_ that return series. The exercise can reveal drifts in a manager's style as well as provide insight into what the manager is likely doing to obtain the returns.\n",
    "\n",
    "\n",
    "# Performing Sharpe Style Analysis\n",
    "\n",
    "The key to obtaining the weights is our old friend, the quadriatic optimizer. We are asking the optimizer to find the weights that minimizes the square of the difference between the observed series and the returns of a benchmark portfolio that holds the explanatory building blocks in those same weights. This is equivalent to minimizing the _tracking error_ between the two return series.\n",
    "\n",
    "The code to implement this is a very slight modification of the `minimize_vol` we have previously implemented:\n",
    "\n",
    "```python                         \n",
    "def style_analysis(dependent_variable, explanatory_variables):\n",
    "    \"\"\"\n",
    "    Returns the optimal weights that minimizes the Tracking error between\n",
    "    a portfolio of the explanatory variables and the dependent variable\n",
    "    \"\"\"\n",
    "    n = explanatory_variables.shape[1]\n",
    "    init_guess = np.repeat(1/n, n)\n",
    "    bounds = ((0.0, 1.0),) * n # an N-tuple of 2-tuples!\n",
    "    # construct the constraints\n",
    "    weights_sum_to_1 = {'type': 'eq',\n",
    "                        'fun': lambda weights: np.sum(weights) - 1\n",
    "    }\n",
    "    solution = minimize(portfolio_tracking_error, init_guess,\n",
    "                       args=(dependent_variable, explanatory_variables,), method='SLSQP',\n",
    "                       options={'disp': False},\n",
    "                       constraints=(weights_sum_to_1,),\n",
    "                       bounds=bounds)\n",
    "    weights = pd.Series(solution.x, index=explanatory_variables.columns)\n",
    "    return weights\n",
    "```\n",
    "\n",
    "The Objective function is a very simple one-liner\n",
    "\n",
    "```python\n",
    "def portfolio_tracking_error(weights, ref_r, bb_r):\n",
    "    \"\"\"\n",
    "    returns the tracking error between the reference returns\n",
    "    and a portfolio of building block returns held with given weights\n",
    "    \"\"\"\n",
    "    return tracking_error(ref_r, (weights*bb_r).sum(axis=1))\n",
    "```"
   ]
  },
  {
   "cell_type": "code",
   "execution_count": 1,
   "metadata": {},
   "outputs": [
    {
     "name": "stderr",
     "output_type": "stream",
     "text": [
      "c:\\finance\\edhec\\MOOC2_Advanced Portfolio Construction\\edhec_risk_kit_202.py:43: SyntaxWarning: \"is\" with a literal. Did you mean \"==\"?\n",
      "  if filetype is \"returns\":\n",
      "c:\\finance\\edhec\\MOOC2_Advanced Portfolio Construction\\edhec_risk_kit_202.py:46: SyntaxWarning: \"is\" with a literal. Did you mean \"==\"?\n",
      "  elif filetype is \"nfirms\":\n",
      "c:\\finance\\edhec\\MOOC2_Advanced Portfolio Construction\\edhec_risk_kit_202.py:49: SyntaxWarning: \"is\" with a literal. Did you mean \"==\"?\n",
      "  elif filetype is \"size\":\n"
     ]
    }
   ],
   "source": [
    "import numpy as np\n",
    "import pandas as pd\n",
    "\n",
    "import edhec_risk_kit_202 as erk\n",
    "\n",
    "%load_ext autoreload\n",
    "%autoreload 2\n"
   ]
  },
  {
   "cell_type": "code",
   "execution_count": 11,
   "metadata": {},
   "outputs": [
    {
     "data": {
      "text/html": [
       "<div>\n",
       "<style scoped>\n",
       "    .dataframe tbody tr th:only-of-type {\n",
       "        vertical-align: middle;\n",
       "    }\n",
       "\n",
       "    .dataframe tbody tr th {\n",
       "        vertical-align: top;\n",
       "    }\n",
       "\n",
       "    .dataframe thead th {\n",
       "        text-align: right;\n",
       "    }\n",
       "</style>\n",
       "<table border=\"1\" class=\"dataframe\">\n",
       "  <thead>\n",
       "    <tr style=\"text-align: right;\">\n",
       "      <th></th>\n",
       "      <th>Food</th>\n",
       "      <th>Beer</th>\n",
       "      <th>Smoke</th>\n",
       "      <th>Games</th>\n",
       "      <th>Books</th>\n",
       "      <th>Hshld</th>\n",
       "      <th>Clths</th>\n",
       "      <th>Hlth</th>\n",
       "      <th>Chems</th>\n",
       "      <th>Txtls</th>\n",
       "      <th>...</th>\n",
       "      <th>Telcm</th>\n",
       "      <th>Servs</th>\n",
       "      <th>BusEq</th>\n",
       "      <th>Paper</th>\n",
       "      <th>Trans</th>\n",
       "      <th>Whlsl</th>\n",
       "      <th>Rtail</th>\n",
       "      <th>Meals</th>\n",
       "      <th>Fin</th>\n",
       "      <th>Other</th>\n",
       "    </tr>\n",
       "  </thead>\n",
       "  <tbody>\n",
       "    <tr>\n",
       "      <th>2000-01</th>\n",
       "      <td>-0.0829</td>\n",
       "      <td>-0.0228</td>\n",
       "      <td>-0.0862</td>\n",
       "      <td>0.0229</td>\n",
       "      <td>-0.0092</td>\n",
       "      <td>-0.0651</td>\n",
       "      <td>-0.1138</td>\n",
       "      <td>0.0756</td>\n",
       "      <td>-0.0933</td>\n",
       "      <td>-0.0764</td>\n",
       "      <td>...</td>\n",
       "      <td>-0.0404</td>\n",
       "      <td>-0.0973</td>\n",
       "      <td>-0.0064</td>\n",
       "      <td>-0.0878</td>\n",
       "      <td>-0.0959</td>\n",
       "      <td>0.0899</td>\n",
       "      <td>-0.1453</td>\n",
       "      <td>-0.0739</td>\n",
       "      <td>-0.0442</td>\n",
       "      <td>-0.0412</td>\n",
       "    </tr>\n",
       "    <tr>\n",
       "      <th>2000-02</th>\n",
       "      <td>-0.0689</td>\n",
       "      <td>-0.1164</td>\n",
       "      <td>-0.0401</td>\n",
       "      <td>-0.0177</td>\n",
       "      <td>-0.0071</td>\n",
       "      <td>-0.1157</td>\n",
       "      <td>-0.1278</td>\n",
       "      <td>-0.0288</td>\n",
       "      <td>-0.0729</td>\n",
       "      <td>-0.0584</td>\n",
       "      <td>...</td>\n",
       "      <td>-0.0359</td>\n",
       "      <td>0.0759</td>\n",
       "      <td>0.2509</td>\n",
       "      <td>-0.1142</td>\n",
       "      <td>-0.0535</td>\n",
       "      <td>0.0113</td>\n",
       "      <td>-0.0393</td>\n",
       "      <td>-0.1203</td>\n",
       "      <td>-0.0849</td>\n",
       "      <td>-0.0061</td>\n",
       "    </tr>\n",
       "    <tr>\n",
       "      <th>2000-03</th>\n",
       "      <td>0.0969</td>\n",
       "      <td>0.0013</td>\n",
       "      <td>0.0511</td>\n",
       "      <td>0.1052</td>\n",
       "      <td>0.1293</td>\n",
       "      <td>-0.1426</td>\n",
       "      <td>0.2506</td>\n",
       "      <td>0.0028</td>\n",
       "      <td>0.1217</td>\n",
       "      <td>0.0535</td>\n",
       "      <td>...</td>\n",
       "      <td>0.0757</td>\n",
       "      <td>0.0269</td>\n",
       "      <td>0.0456</td>\n",
       "      <td>0.0836</td>\n",
       "      <td>0.1287</td>\n",
       "      <td>0.0659</td>\n",
       "      <td>0.1436</td>\n",
       "      <td>0.1598</td>\n",
       "      <td>0.1669</td>\n",
       "      <td>-0.0016</td>\n",
       "    </tr>\n",
       "    <tr>\n",
       "      <th>2000-04</th>\n",
       "      <td>-0.0390</td>\n",
       "      <td>0.0368</td>\n",
       "      <td>0.0379</td>\n",
       "      <td>0.0220</td>\n",
       "      <td>-0.0734</td>\n",
       "      <td>0.0429</td>\n",
       "      <td>0.0430</td>\n",
       "      <td>0.0525</td>\n",
       "      <td>-0.0373</td>\n",
       "      <td>0.0648</td>\n",
       "      <td>...</td>\n",
       "      <td>-0.0790</td>\n",
       "      <td>-0.1655</td>\n",
       "      <td>-0.0630</td>\n",
       "      <td>-0.0109</td>\n",
       "      <td>0.0348</td>\n",
       "      <td>-0.0107</td>\n",
       "      <td>-0.0560</td>\n",
       "      <td>0.0382</td>\n",
       "      <td>-0.0425</td>\n",
       "      <td>0.0819</td>\n",
       "    </tr>\n",
       "    <tr>\n",
       "      <th>2000-05</th>\n",
       "      <td>0.1565</td>\n",
       "      <td>0.1187</td>\n",
       "      <td>0.1951</td>\n",
       "      <td>0.0119</td>\n",
       "      <td>-0.0593</td>\n",
       "      <td>0.0279</td>\n",
       "      <td>-0.0504</td>\n",
       "      <td>0.0394</td>\n",
       "      <td>-0.0010</td>\n",
       "      <td>-0.0328</td>\n",
       "      <td>...</td>\n",
       "      <td>-0.1041</td>\n",
       "      <td>-0.0892</td>\n",
       "      <td>-0.1165</td>\n",
       "      <td>-0.0137</td>\n",
       "      <td>-0.0363</td>\n",
       "      <td>0.0193</td>\n",
       "      <td>-0.0304</td>\n",
       "      <td>-0.0421</td>\n",
       "      <td>0.0506</td>\n",
       "      <td>0.0531</td>\n",
       "    </tr>\n",
       "  </tbody>\n",
       "</table>\n",
       "<p>5 rows × 30 columns</p>\n",
       "</div>"
      ],
      "text/plain": [
       "           Food    Beer   Smoke   Games   Books   Hshld   Clths    Hlth  \\\n",
       "2000-01 -0.0829 -0.0228 -0.0862  0.0229 -0.0092 -0.0651 -0.1138  0.0756   \n",
       "2000-02 -0.0689 -0.1164 -0.0401 -0.0177 -0.0071 -0.1157 -0.1278 -0.0288   \n",
       "2000-03  0.0969  0.0013  0.0511  0.1052  0.1293 -0.1426  0.2506  0.0028   \n",
       "2000-04 -0.0390  0.0368  0.0379  0.0220 -0.0734  0.0429  0.0430  0.0525   \n",
       "2000-05  0.1565  0.1187  0.1951  0.0119 -0.0593  0.0279 -0.0504  0.0394   \n",
       "\n",
       "          Chems   Txtls  ...   Telcm   Servs   BusEq   Paper   Trans   Whlsl  \\\n",
       "2000-01 -0.0933 -0.0764  ... -0.0404 -0.0973 -0.0064 -0.0878 -0.0959  0.0899   \n",
       "2000-02 -0.0729 -0.0584  ... -0.0359  0.0759  0.2509 -0.1142 -0.0535  0.0113   \n",
       "2000-03  0.1217  0.0535  ...  0.0757  0.0269  0.0456  0.0836  0.1287  0.0659   \n",
       "2000-04 -0.0373  0.0648  ... -0.0790 -0.1655 -0.0630 -0.0109  0.0348 -0.0107   \n",
       "2000-05 -0.0010 -0.0328  ... -0.1041 -0.0892 -0.1165 -0.0137 -0.0363  0.0193   \n",
       "\n",
       "          Rtail   Meals     Fin   Other  \n",
       "2000-01 -0.1453 -0.0739 -0.0442 -0.0412  \n",
       "2000-02 -0.0393 -0.1203 -0.0849 -0.0061  \n",
       "2000-03  0.1436  0.1598  0.1669 -0.0016  \n",
       "2000-04 -0.0560  0.0382 -0.0425  0.0819  \n",
       "2000-05 -0.0304 -0.0421  0.0506  0.0531  \n",
       "\n",
       "[5 rows x 30 columns]"
      ]
     },
     "execution_count": 11,
     "metadata": {},
     "output_type": "execute_result"
    }
   ],
   "source": [
    "ind = erk.get_ind_returns()[\"2000\":]\n",
    "ind.head()"
   ]
  },
  {
   "cell_type": "markdown",
   "metadata": {},
   "source": [
    "Let's construct a manager that invests in 30% Beer, 50% in Smoke and 20% in other things that have an average return of 0% and an annualized vol of 15%"
   ]
  },
  {
   "cell_type": "code",
   "execution_count": 3,
   "metadata": {},
   "outputs": [],
   "source": [
    "mgr_r = 0.3*ind[\"Beer\"] + .5*ind[\"Smoke\"] + 0.2*np.random.normal(scale=0.15/(12**.5), size=ind.shape[0])"
   ]
  },
  {
   "cell_type": "markdown",
   "metadata": {},
   "source": [
    "Now, assume we knew absolutely nothing about this manager and all we observed was the returns. How could we tell what she was invested in?"
   ]
  },
  {
   "cell_type": "code",
   "execution_count": 4,
   "metadata": {},
   "outputs": [],
   "source": [
    "weights = erk.style_analysis(mgr_r, ind)*100"
   ]
  },
  {
   "cell_type": "code",
   "execution_count": 5,
   "metadata": {},
   "outputs": [
    {
     "data": {
      "text/plain": [
       "<Axes: >"
      ]
     },
     "execution_count": 5,
     "metadata": {},
     "output_type": "execute_result"
    },
    {
     "data": {
      "image/png": "[encoded data removed]",
      "text/plain": [
       "<Figure size 640x480 with 1 Axes>"
      ]
     },
     "metadata": {},
     "output_type": "display_data"
    }
   ],
   "source": [
    "weights.sort_values(ascending=False).head(6).plot.bar()"
   ]
  },
  {
   "cell_type": "markdown",
   "metadata": {},
   "source": [
    "Contrast this to the results of a regression. Because the model is in fact very true (i.e. we really did construct the manager's returns out of the building blocks), the results are remarkably accurate. However, the negative coefficients are hard to intepret and in real-life data, those will be much larger. However when it works well, such as in this artificial example here, the results can be very accurate."
   ]
  },
  {
   "cell_type": "code",
   "execution_count": 6,
   "metadata": {},
   "outputs": [
    {
     "data": {
      "text/plain": [
       "ElcEq   -3.591492\n",
       "Paper   -3.310143\n",
       "Telcm   -2.695702\n",
       "Clths   -2.551005\n",
       "Hshld   -2.519560\n",
       "dtype: float64"
      ]
     },
     "execution_count": 6,
     "metadata": {},
     "output_type": "execute_result"
    }
   ],
   "source": [
    "coeffs = erk.regress(mgr_r, ind).params*100\n",
    "coeffs.sort_values().head()"
   ]
  },
  {
   "cell_type": "markdown",
   "metadata": {},
   "source": [
    "Negative 4.5% in Household?"
   ]
  },
  {
   "cell_type": "code",
   "execution_count": 7,
   "metadata": {},
   "outputs": [
    {
     "data": {
      "text/plain": [
       "<Axes: >"
      ]
     },
     "execution_count": 7,
     "metadata": {},
     "output_type": "execute_result"
    },
    {
     "data": {
      "image/png": "[encoded data removed]",
      "text/plain": [
       "<Figure size 640x480 with 1 Axes>"
      ]
     },
     "metadata": {},
     "output_type": "display_data"
    }
   ],
   "source": [
    "coeffs.sort_values(ascending=False).head(6).plot.bar()"
   ]
  },
  {
   "cell_type": "markdown",
   "metadata": {},
   "source": [
    "## Style Drift: Time Varying Exposures using Style Anaylsis\n",
    "\n",
    "One of the most common ways in which Sharpe Style Analysis can be used is to measure style drift. If you run the style analysis function over a rolling window of 1 to 5 years, you can extract changes in the style exposures of a manager.\n",
    "\n",
    "We'll look at Rolling Windows in the next lab session.\n",
    "\n",
    "As an exercise to the student, download a set of returns from Yahoo Finance, and try and measure the style drift in your favorite fund manager. Use reliable Value and Growth ETFs such as \"SPYG\" and \"SPYV\" along with a SmallCap ETF such as \"SLY\" and LargeCap ETF such as \"OEF\".\n",
    "\n",
    "Alternately, the Fama-French research factors and use the Top and Bottom portfolios by Value (HML) and Size (SMB) to categorize mutual funds into categories. This is very similar to the \"Style Box\" methodology employed by Morningstar and displayed on their website. Compare your results with their results to see if they agree!"
   ]
  },
  {
   "cell_type": "markdown",
   "metadata": {},
   "source": [
    "# Warning: Potential Misuse of Style Analysis\n",
    "\n",
    "Style Analysis works best when the explanatory indices are in fact a good specification of what is happening. For instance, it usually gives you very useful and revealing insight if you use a stock market index (such as SPY) and other broad indices, ETFs or mutual funds (such as a Value Fund, a Growth Fund, an International Fund, a Bond Fund etc).\n",
    "\n",
    "Part of the skill in extracting meaningful results is to pick the right set of explanatory variables.\n",
    "\n",
    "However, a part of the challenge with Style Analysis is that it will _always_ return a portfolio. Although it is possible to develop a figure of merit of fit quality similar to an $R^2$, it will still always give you an answer, however unreasonable it might be, and it's not always obvious how much one can rely on the result.\n",
    "\n",
    "For instance, we can try and extract the major industries that Buffer invested in since 2000 as follows:"
   ]
  },
  {
   "cell_type": "code",
   "execution_count": 8,
   "metadata": {},
   "outputs": [],
   "source": [
    "brka_m = pd.read_csv(\"brka_m.csv\", index_col=0, parse_dates=True).to_period('M')"
   ]
  },
  {
   "cell_type": "code",
   "execution_count": 9,
   "metadata": {},
   "outputs": [
    {
     "data": {
      "text/plain": [
       "Food     41.35\n",
       "Fin      17.61\n",
       "Meals    12.11\n",
       "Other    11.03\n",
       "Util      7.19\n",
       "Clths     5.99\n",
       "dtype: float64"
      ]
     },
     "execution_count": 9,
     "metadata": {},
     "output_type": "execute_result"
    }
   ],
   "source": [
    "mgr_r_b = brka_m[\"2000\":][\"BRKA\"]\n",
    "weights_b = erk.style_analysis(mgr_r_b, ind)\n",
    "weights_b.sort_values(ascending=False).head(6).round(4)*100"
   ]
  },
  {
   "cell_type": "markdown",
   "metadata": {},
   "source": [
    "If we want to look at the last decade (2009-2018):"
   ]
  },
  {
   "cell_type": "code",
   "execution_count": 10,
   "metadata": {},
   "outputs": [
    {
     "data": {
      "text/plain": [
       "Other    43.64\n",
       "Food     28.33\n",
       "Hlth     22.72\n",
       "Rtail     5.25\n",
       "Meals     0.07\n",
       "Beer      0.00\n",
       "dtype: float64"
      ]
     },
     "execution_count": 10,
     "metadata": {},
     "output_type": "execute_result"
    }
   ],
   "source": [
    "brk2009 = brka_m[\"2009\":][\"BRKA\"]\n",
    "ind2009 = ind[\"2009\":]\n",
    "erk.style_analysis(brk2009, ind2009).sort_values(ascending=False).head(6).round(4)*100"
   ]
  },
  {
   "cell_type": "markdown",
   "metadata": {},
   "source": [
    "Should you believe the analysis? Probably not. However, when the specification is in fact accurate (as we saw in the articially generated series) the results can be very revealing"
   ]
  },
  {
   "cell_type": "code",
   "execution_count": null,
   "metadata": {},
   "outputs": [],
   "source": []
  }
 ],
 "metadata": {
  "kernelspec": {
   "display_name": "Python 3",
   "language": "python",
   "name": "python3"
  },
  "language_info": {
   "codemirror_mode": {
    "name": "ipython",
    "version": 3
   },
   "file_extension": ".py",
   "mimetype": "text/x-python",
   "name": "python",
   "nbconvert_exporter": "python",
   "pygments_lexer": "ipython3",
   "version": "3.10.16"
  }
 },
 "nbformat": 4,
 "nbformat_minor": 2
}
